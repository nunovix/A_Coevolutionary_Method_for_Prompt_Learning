{
 "cells": [
  {
   "cell_type": "markdown",
   "metadata": {},
   "source": [
    "# Tokens Budget for final DQ experiments"
   ]
  },
  {
   "cell_type": "markdown",
   "metadata": {},
   "source": [
    "Para cada dataset\n",
    "- Extrair dados\n",
    "- aplicar construçao das prompts\n",
    "- tokenizer\n",
    "- stats com os tamanhos\n",
    "\n",
    "- funções de extract dos datasets\n",
    "- funções de prompt preds?\n",
    "    não, pq a prompt pode variar\n",
    "- começar com as de nli\n",
    "\n"
   ]
  },
  {
   "cell_type": "code",
   "execution_count": 1,
   "metadata": {},
   "outputs": [
    {
     "name": "stderr",
     "output_type": "stream",
     "text": [
      "/cfs/home/u023967/miniconda3/envs/thesis_env_2/lib/python3.9/site-packages/tqdm/auto.py:21: TqdmWarning: IProgress not found. Please update jupyter and ipywidgets. See https://ipywidgets.readthedocs.io/en/stable/user_install.html\n",
      "  from .autonotebook import tqdm as notebook_tqdm\n"
     ]
    },
    {
     "name": "stdout",
     "output_type": "stream",
     "text": [
      "🦥 Unsloth: Will patch your computer to enable 2x faster free finetuning.\n"
     ]
    }
   ],
   "source": [
    "import os\n",
    "# set available gpu's\n",
    "os.environ[\"CUDA_VISIBLE_DEVICES\"] = \"0\"\n",
    "\n",
    "from evo_functions import extract_SemEval_data, extract_ContractNLI_data, extract_MEDIQASUM_data, extract_LegalSumTOSDR_data, load_model\n",
    "import numpy as np"
   ]
  },
  {
   "cell_type": "markdown",
   "metadata": {},
   "source": [
    "## SemEval"
   ]
  },
  {
   "cell_type": "code",
   "execution_count": 2,
   "metadata": {},
   "outputs": [
    {
     "name": "stdout",
     "output_type": "stream",
     "text": [
      "Used data with already retrieved examples from DATASETS/SemEval_data/dev_w_retrieved.json\n"
     ]
    },
    {
     "name": "stderr",
     "output_type": "stream",
     "text": [
      "Loading checkpoint shards: 100%|██████████| 2/2 [02:24<00:00, 72.41s/it]\n"
     ]
    },
    {
     "name": "stdout",
     "output_type": "stream",
     "text": [
      "Phi-3 selecionado\n"
     ]
    }
   ],
   "source": [
    "semeval_data = extract_SemEval_data()\n",
    "model, tokenizer = load_model(checkpoint=\"microsoft/Phi-3-mini-4k-instruct\")"
   ]
  },
  {
   "cell_type": "code",
   "execution_count": 3,
   "metadata": {},
   "outputs": [],
   "source": [
    "no_tokens_semeval = []\n",
    "\n",
    "for ins in semeval_data:\n",
    "\n",
    "    ins_text = \"\\n\".join(ins['primary_evidence'])\n",
    "    if 'secondary_evidence' in ins:\n",
    "        ins_text += '\\n'\n",
    "        ins_text += \"\\n\".join(ins['secondary_evidence'])\n",
    "    ins_tokenized = tokenizer(ins_text, return_tensors=\"pt\", return_attention_mask=False)\n",
    "\n",
    "    no_tokens_semeval.append(int(len(ins_tokenized['input_ids'][0])))"
   ]
  },
  {
   "cell_type": "code",
   "execution_count": 4,
   "metadata": {},
   "outputs": [
    {
     "name": "stdout",
     "output_type": "stream",
     "text": [
      "mean-->498.85\n",
      "75th percentile-->211.5\n",
      "25th percentile-->694.75\n",
      "sum-->99770\n"
     ]
    }
   ],
   "source": [
    "no_tokens_semeval = np.array(no_tokens_semeval)\n",
    "\n",
    "print(f\"mean-->{np.mean(no_tokens_semeval)}\")\n",
    "print(f\"75th percentile-->{np.percentile(no_tokens_semeval, 25)}\")\n",
    "print(f\"25th percentile-->{np.percentile(no_tokens_semeval, 75)}\")\n",
    "print(f\"sum-->{np.sum(no_tokens_semeval)}\")"
   ]
  },
  {
   "cell_type": "markdown",
   "metadata": {},
   "source": [
    "## Contract NLI"
   ]
  },
  {
   "cell_type": "code",
   "execution_count": 5,
   "metadata": {},
   "outputs": [
    {
     "name": "stdout",
     "output_type": "stream",
     "text": [
      "LOADE\n",
      "Used data with already retrieved examples from DATASETS/ContractNLI_data/dev_w_retrieved_task_w_2_labels_False.json\n",
      "filtering out the NotMentioned examples...\n",
      "Counter({'Entailment': 519, 'Contradiction': 95})\n"
     ]
    }
   ],
   "source": [
    "contractnli_data = extract_ContractNLI_data()"
   ]
  },
  {
   "cell_type": "code",
   "execution_count": 6,
   "metadata": {},
   "outputs": [
    {
     "data": {
      "text/plain": [
       "dict_keys(['text', 'statement', 'label', 'spans', 'spans_index', 'retrieved_sentences'])"
      ]
     },
     "execution_count": 6,
     "metadata": {},
     "output_type": "execute_result"
    }
   ],
   "source": [
    "contractnli_data[0].keys()"
   ]
  },
  {
   "cell_type": "code",
   "execution_count": 7,
   "metadata": {},
   "outputs": [],
   "source": [
    "no_tokens_contractnli = []\n",
    "\n",
    "for ins in contractnli_data:\n",
    "\n",
    "    ins_text = ins['text'] + '\\n' + ins['statement'] + \"\\n\".join(ins['retrieved_sentences'])\n",
    "    ins_tokenized = tokenizer(ins_text, return_tensors=\"pt\", return_attention_mask=False)\n",
    "    no_tokens_contractnli.append(int(len(ins_tokenized['input_ids'][0])))"
   ]
  },
  {
   "cell_type": "code",
   "execution_count": 8,
   "metadata": {},
   "outputs": [
    {
     "name": "stdout",
     "output_type": "stream",
     "text": [
      "mean-->3193.674267100977\n",
      "75th percentile-->1846.25\n",
      "25th percentile-->3742.5\n",
      "sum-->1960916\n"
     ]
    }
   ],
   "source": [
    "no_tokens_contractnli = np.array(no_tokens_contractnli)\n",
    "\n",
    "print(f\"mean-->{np.mean(no_tokens_contractnli)}\")\n",
    "print(f\"75th percentile-->{np.percentile(no_tokens_contractnli, 25)}\")\n",
    "print(f\"25th percentile-->{np.percentile(no_tokens_contractnli, 75)}\")\n",
    "print(f\"sum-->{np.sum(no_tokens_contractnli)}\")"
   ]
  },
  {
   "cell_type": "markdown",
   "metadata": {},
   "source": [
    "## MEDIQA"
   ]
  },
  {
   "cell_type": "code",
   "execution_count": 9,
   "metadata": {},
   "outputs": [
    {
     "name": "stdout",
     "output_type": "stream",
     "text": [
      "Used data with already retrieved examples from DATASETS/MEDIQASUM_data/valid_w_retrieved.json\n"
     ]
    }
   ],
   "source": [
    "mediqa_data = extract_MEDIQASUM_data()"
   ]
  },
  {
   "cell_type": "code",
   "execution_count": 10,
   "metadata": {},
   "outputs": [
    {
     "data": {
      "text/plain": [
       "dict_keys(['dataset', 'encounter_id', 'dialogue', 'note', 'retrieved_example_note'])"
      ]
     },
     "execution_count": 10,
     "metadata": {},
     "output_type": "execute_result"
    }
   ],
   "source": [
    "mediqa_data[0].keys()"
   ]
  },
  {
   "cell_type": "code",
   "execution_count": 11,
   "metadata": {},
   "outputs": [],
   "source": [
    "no_tokens_mediqa = []\n",
    "\n",
    "for ins in mediqa_data:\n",
    "\n",
    "    ins_text = ins['dialogue'] + '\\n' + ins['retrieved_example_note']\n",
    "    ins_tokenized = tokenizer(ins_text, return_tensors=\"pt\", return_attention_mask=False)\n",
    "    no_tokens_mediqa.append(int(len(ins_tokenized['input_ids'][0])))"
   ]
  },
  {
   "cell_type": "code",
   "execution_count": 12,
   "metadata": {},
   "outputs": [
    {
     "name": "stdout",
     "output_type": "stream",
     "text": [
      "mean-->2474.05\n",
      "75th percentile-->2200.5\n",
      "25th percentile-->2989.75\n",
      "sum-->49481\n"
     ]
    }
   ],
   "source": [
    "no_tokens_mediqa = np.array(no_tokens_mediqa)\n",
    "\n",
    "print(f\"mean-->{np.mean(no_tokens_mediqa)}\")\n",
    "print(f\"75th percentile-->{np.percentile(no_tokens_mediqa, 25)}\")\n",
    "print(f\"25th percentile-->{np.percentile(no_tokens_mediqa, 75)}\")\n",
    "print(f\"sum-->{np.sum(no_tokens_mediqa)}\")"
   ]
  },
  {
   "cell_type": "markdown",
   "metadata": {},
   "source": [
    "## Legal SUM"
   ]
  },
  {
   "cell_type": "code",
   "execution_count": 13,
   "metadata": {},
   "outputs": [
    {
     "name": "stdout",
     "output_type": "stream",
     "text": [
      "Used data with already retrieved examples from DATASETS/LegalSumTOSDR_data/val_w_retrieved.json\n"
     ]
    }
   ],
   "source": [
    "legalsum_data = extract_LegalSumTOSDR_data()"
   ]
  },
  {
   "cell_type": "code",
   "execution_count": 14,
   "metadata": {},
   "outputs": [
    {
     "data": {
      "text/plain": [
       "dict_keys(['original_text', 'reference_summary', 'uid'])"
      ]
     },
     "execution_count": 14,
     "metadata": {},
     "output_type": "execute_result"
    }
   ],
   "source": [
    "legalsum_data[0].keys()"
   ]
  },
  {
   "cell_type": "code",
   "execution_count": 15,
   "metadata": {},
   "outputs": [],
   "source": [
    "no_tokens_legalsum = []\n",
    "\n",
    "for ins in legalsum_data:\n",
    "\n",
    "    ins_text = ins['original_text']\n",
    "    ins_tokenized = tokenizer(ins_text, return_tensors=\"pt\", return_attention_mask=False)\n",
    "    no_tokens_legalsum.append(int(len(ins_tokenized['input_ids'][0])))"
   ]
  },
  {
   "cell_type": "code",
   "execution_count": 16,
   "metadata": {},
   "outputs": [
    {
     "name": "stdout",
     "output_type": "stream",
     "text": [
      "mean-->85.04109589041096\n",
      "75th percentile-->36.0\n",
      "25th percentile-->104.0\n",
      "sum-->6208\n"
     ]
    }
   ],
   "source": [
    "no_tokens_legalsum = np.array(no_tokens_legalsum)\n",
    "\n",
    "print(f\"mean-->{np.mean(no_tokens_legalsum)}\")\n",
    "print(f\"75th percentile-->{np.percentile(no_tokens_legalsum, 25)}\")\n",
    "print(f\"25th percentile-->{np.percentile(no_tokens_legalsum, 75)}\")\n",
    "print(f\"sum-->{np.sum(no_tokens_legalsum)}\")"
   ]
  },
  {
   "cell_type": "markdown",
   "metadata": {},
   "source": [
    "## Compiled"
   ]
  },
  {
   "cell_type": "code",
   "execution_count": 17,
   "metadata": {},
   "outputs": [
    {
     "name": "stdout",
     "output_type": "stream",
     "text": [
      "SemEval\n",
      "\n",
      "mean-->498.85\n",
      "75th percentile-->211.5\n",
      "25th percentile-->694.75\n",
      "sum-->99770\n",
      "\n",
      "\n",
      "Contract NLI\n",
      "\n",
      "mean-->3193.674267100977\n",
      "75th percentile-->1846.25\n",
      "25th percentile-->3742.5\n",
      "sum-->1960916\n",
      "\n",
      "\n",
      "MEDIQA\n",
      "\n",
      "mean-->2474.05\n",
      "75th percentile-->2200.5\n",
      "25th percentile-->2989.75\n",
      "sum-->49481\n",
      "\n",
      "\n",
      "Legalsum\n",
      "\n",
      "mean-->85.04109589041096\n",
      "75th percentile-->36.0\n",
      "25th percentile-->104.0\n",
      "sum-->6208\n"
     ]
    }
   ],
   "source": [
    "print(f\"SemEval\\n\")\n",
    "print(f\"mean-->{np.mean(no_tokens_semeval)}\")\n",
    "print(f\"75th percentile-->{np.percentile(no_tokens_semeval, 25)}\")\n",
    "print(f\"25th percentile-->{np.percentile(no_tokens_semeval, 75)}\")\n",
    "print(f\"sum-->{np.sum(no_tokens_semeval)}\")\n",
    "\n",
    "print(f\"\\n\")\n",
    "\n",
    "print(f\"Contract NLI\\n\")\n",
    "print(f\"mean-->{np.mean(no_tokens_contractnli)}\")\n",
    "print(f\"75th percentile-->{np.percentile(no_tokens_contractnli, 25)}\")\n",
    "print(f\"25th percentile-->{np.percentile(no_tokens_contractnli, 75)}\")\n",
    "print(f\"sum-->{np.sum(no_tokens_contractnli)}\")\n",
    "\n",
    "print(f\"\\n\")\n",
    "\n",
    "print(f\"MEDIQA\\n\")\n",
    "print(f\"mean-->{np.mean(no_tokens_mediqa)}\")\n",
    "print(f\"75th percentile-->{np.percentile(no_tokens_mediqa, 25)}\")\n",
    "print(f\"25th percentile-->{np.percentile(no_tokens_mediqa, 75)}\")\n",
    "print(f\"sum-->{np.sum(no_tokens_mediqa)}\")\n",
    "\n",
    "print(f\"\\n\")\n",
    "\n",
    "print(f\"Legalsum\\n\")\n",
    "print(f\"mean-->{np.mean(no_tokens_legalsum)}\")\n",
    "print(f\"75th percentile-->{np.percentile(no_tokens_legalsum, 25)}\")\n",
    "print(f\"25th percentile-->{np.percentile(no_tokens_legalsum, 75)}\")\n",
    "print(f\"sum-->{np.sum(no_tokens_legalsum)}\")"
   ]
  },
  {
   "cell_type": "markdown",
   "metadata": {},
   "source": [
    "# Stats"
   ]
  },
  {
   "cell_type": "code",
   "execution_count": 18,
   "metadata": {},
   "outputs": [
    {
     "ename": "NameError",
     "evalue": "name 'no_tokens' is not defined",
     "output_type": "error",
     "traceback": [
      "\u001b[0;31m---------------------------------------------------------------------------\u001b[0m",
      "\u001b[0;31mNameError\u001b[0m                                 Traceback (most recent call last)",
      "Cell \u001b[0;32mIn[18], line 4\u001b[0m\n\u001b[1;32m      1\u001b[0m \u001b[38;5;28;01mimport\u001b[39;00m \u001b[38;5;21;01mmatplotlib\u001b[39;00m\u001b[38;5;21;01m.\u001b[39;00m\u001b[38;5;21;01mpyplot\u001b[39;00m \u001b[38;5;28;01mas\u001b[39;00m \u001b[38;5;21;01mplt\u001b[39;00m\n\u001b[1;32m      3\u001b[0m \u001b[38;5;66;03m# Create a box plot\u001b[39;00m\n\u001b[0;32m----> 4\u001b[0m plt\u001b[38;5;241m.\u001b[39mboxplot(\u001b[43mno_tokens\u001b[49m)\n\u001b[1;32m      6\u001b[0m \u001b[38;5;66;03m# Add labels and title\u001b[39;00m\n\u001b[1;32m      7\u001b[0m plt\u001b[38;5;241m.\u001b[39mtitle(\u001b[38;5;124m\"\u001b[39m\u001b[38;5;124mBox Plot of Array Lengths\u001b[39m\u001b[38;5;124m\"\u001b[39m)\n",
      "\u001b[0;31mNameError\u001b[0m: name 'no_tokens' is not defined"
     ]
    }
   ],
   "source": [
    "import matplotlib.pyplot as plt\n",
    "\n",
    "# Create a box plot\n",
    "plt.boxplot(no_tokens)\n",
    "\n",
    "# Add labels and title\n",
    "plt.title(\"Box Plot of Array Lengths\")\n",
    "plt.ylabel(\"Value\")\n",
    "\n",
    "# Display the plot\n",
    "plt.show()\n"
   ]
  },
  {
   "cell_type": "code",
   "execution_count": 12,
   "metadata": {},
   "outputs": [
    {
     "data": {
      "image/png": "[encoded data removed]",
      "text/plain": [
       "<Figure size 640x480 with 1 Axes>"
      ]
     },
     "metadata": {},
     "output_type": "display_data"
    }
   ],
   "source": [
    "import seaborn as sns\n",
    "import matplotlib.pyplot as plt\n",
    "\n",
    "# Create a violin plot\n",
    "sns.violinplot(data=no_tokens)\n",
    "\n",
    "# Add labels and title\n",
    "plt.title(\"Violin Plot of Array Lengths\")\n",
    "plt.ylabel(\"Value\")\n",
    "\n",
    "# Display the plot\n",
    "plt.show()\n"
   ]
  },
  {
   "cell_type": "markdown",
   "metadata": {},
   "source": [
    "# Datasets Stats for thesis"
   ]
  },
  {
   "cell_type": "code",
   "execution_count": null,
   "metadata": {},
   "outputs": [],
   "source": [
    "val_semeval_data = extract_SemEval_data()\n",
    "val_contractnli_data = extract_ContractNLI_data()\n",
    "val_mediqasum_data = extract_MEDIQASUM_data()\n",
    "val_legalsum_data = extract_LegalSumTOSDR_data()\n",
    "\n",
    "test_semeval_data = extract_SemEval_data(type='test')\n",
    "test_contractnli_data = extract_ContractNLI_data(type='test')\n",
    "test_mediqasum_data = extract_MEDIQASUM_data(type='test')\n",
    "test_legalsum_data = extract_LegalSumTOSDR_data(type='test')"
   ]
  }
 ],
 "metadata": {
  "kernelspec": {
   "display_name": "thesis_env_2",
   "language": "python",
   "name": "python3"
  },
  "language_info": {
   "codemirror_mode": {
    "name": "ipython",
    "version": 3
   },
   "file_extension": ".py",
   "mimetype": "text/x-python",
   "name": "python",
   "nbconvert_exporter": "python",
   "pygments_lexer": "ipython3",
   "version": "3.9.16"
  }
 },
 "nbformat": 4,
 "nbformat_minor": 2
}
