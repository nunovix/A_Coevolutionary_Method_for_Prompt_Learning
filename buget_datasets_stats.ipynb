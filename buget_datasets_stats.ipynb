{
 "cells": [
  {
   "cell_type": "markdown",
   "metadata": {},
   "source": [
    "# Tokens Budget for final DQ experiments"
   ]
  },
  {
   "cell_type": "markdown",
   "metadata": {},
   "source": [
    "Para cada dataset\n",
    "- Extrair dados\n",
    "- aplicar construçao das prompts\n",
    "- tokenizer\n",
    "- stats com os tamanhos\n",
    "\n",
    "- funções de extract dos datasets\n",
    "- funções de prompt preds?\n",
    "    não, pq a prompt pode variar\n",
    "- começar com as de nli\n",
    "\n"
   ]
  },
  {
   "cell_type": "code",
   "execution_count": 1,
   "metadata": {},
   "outputs": [
    {
     "name": "stderr",
     "output_type": "stream",
     "text": [
      "/cfs/home/u023967/miniconda3/envs/thesis_env_2/lib/python3.9/site-packages/tqdm/auto.py:21: TqdmWarning: IProgress not found. Please update jupyter and ipywidgets. See https://ipywidgets.readthedocs.io/en/stable/user_install.html\n",
      "  from .autonotebook import tqdm as notebook_tqdm\n"
     ]
    },
    {
     "name": "stdout",
     "output_type": "stream",
     "text": [
      "🦥 Unsloth: Will patch your computer to enable 2x faster free finetuning.\n"
     ]
    }
   ],
   "source": [
    "import os\n",
    "# set available gpu's\n",
    "os.environ[\"CUDA_VISIBLE_DEVICES\"] = \"4\"\n",
    "\n",
    "from evo_functions import extract_SemEval_data, extract_ContractNLI_data, extract_MEDIQASUM_data, extract_LegalSumTOSDR_data, load_model\n",
    "import numpy as np"
   ]
  },
  {
   "cell_type": "code",
   "execution_count": 2,
   "metadata": {},
   "outputs": [],
   "source": [
    "import random"
   ]
  },
  {
   "cell_type": "code",
   "execution_count": 3,
   "metadata": {},
   "outputs": [],
   "source": [
    "import json\n",
    "\n",
    "# function to save data in the format \n",
    "def save_data2file(data, folder, file_name):\n",
    "    file_name += '.json'\n",
    "    save_path = os.path.join(folder, file_name)\n",
    "    with open(save_path, 'w') as file:\n",
    "        json.dump(data, file)\n",
    "    print(f\"Data saved to {save_path}\")"
   ]
  },
  {
   "cell_type": "code",
   "execution_count": 4,
   "metadata": {},
   "outputs": [
    {
     "name": "stderr",
     "output_type": "stream",
     "text": [
      "Loading checkpoint shards: 100%|██████████| 2/2 [00:04<00:00,  2.23s/it]\n"
     ]
    },
    {
     "name": "stdout",
     "output_type": "stream",
     "text": [
      "Phi-3 selecionado\n"
     ]
    }
   ],
   "source": [
    "model, tokenizer = load_model(checkpoint=\"microsoft/Phi-3-mini-4k-instruct\")"
   ]
  },
  {
   "cell_type": "markdown",
   "metadata": {},
   "source": [
    "## SemEval"
   ]
  },
  {
   "cell_type": "markdown",
   "metadata": {},
   "source": [
    "300 instances"
   ]
  },
  {
   "cell_type": "code",
   "execution_count": 4,
   "metadata": {},
   "outputs": [
    {
     "name": "stdout",
     "output_type": "stream",
     "text": [
      "Used data with already retrieved examples from DATASETS/SemEval_data/dev_w_retrieved.json\n",
      "Used data with already retrieved examples from DATASETS/SemEval_data/train_w_retrieved.json\n"
     ]
    }
   ],
   "source": [
    "val_semeval_data = extract_SemEval_data()\n",
    "train_semeval_data = extract_SemEval_data(type='train')"
   ]
  },
  {
   "cell_type": "code",
   "execution_count": 6,
   "metadata": {},
   "outputs": [
    {
     "name": "stdout",
     "output_type": "stream",
     "text": [
      "len(val_semeval_data)-->200\n",
      "len(train_semeval_data)-->1700\n"
     ]
    }
   ],
   "source": [
    "print(f\"len(val_semeval_data)-->{len(val_semeval_data)}\")\n",
    "print(f\"len(train_semeval_data)-->{len(train_semeval_data)}\")"
   ]
  },
  {
   "cell_type": "code",
   "execution_count": 10,
   "metadata": {},
   "outputs": [],
   "source": [
    "full_semeval_data = val_semeval_data + train_semeval_data"
   ]
  },
  {
   "cell_type": "code",
   "execution_count": 17,
   "metadata": {},
   "outputs": [],
   "source": [
    "val_tokens_semeval = []\n",
    "\n",
    "for ins in val_semeval_data:\n",
    "\n",
    "    ins_text = \"\\n\".join(ins['primary_evidence'])\n",
    "    if 'secondary_evidence' in ins:\n",
    "        ins_text += '\\n'\n",
    "        ins_text += \"\\n\".join(ins['secondary_evidence'])\n",
    "    ins_tokenized = tokenizer(ins_text, return_tensors=\"pt\", return_attention_mask=False)\n",
    "\n",
    "    val_tokens_semeval.append(int(len(ins_tokenized['input_ids'][0])))"
   ]
  },
  {
   "cell_type": "code",
   "execution_count": 18,
   "metadata": {},
   "outputs": [],
   "source": [
    "train_tokens_semeval = []\n",
    "\n",
    "for ins in train_semeval_data:\n",
    "\n",
    "    ins_text = \"\\n\".join(ins['primary_evidence'])\n",
    "    if 'secondary_evidence' in ins:\n",
    "        ins_text += '\\n'\n",
    "        ins_text += \"\\n\".join(ins['secondary_evidence'])\n",
    "    ins_tokenized = tokenizer(ins_text, return_tensors=\"pt\", return_attention_mask=False)\n",
    "\n",
    "    train_tokens_semeval.append(int(len(ins_tokenized['input_ids'][0])))"
   ]
  },
  {
   "cell_type": "code",
   "execution_count": 22,
   "metadata": {},
   "outputs": [
    {
     "name": "stdout",
     "output_type": "stream",
     "text": [
      "sum_total_tokens_semeval-->1030102\n",
      "sum_train_tokens_semeval-->930332\n",
      "sum_val_tokens_semeval-->99770\n",
      "\n",
      "np.avg(total_tokens_semeval)-->542.1589473684211\n",
      "\n",
      "sum_total_tokens_semeval*0.15-->154515.3\n"
     ]
    }
   ],
   "source": [
    "\n",
    "train_tokens_semeval = np.array(train_tokens_semeval)\n",
    "val_tokens_semeval = np.array(val_tokens_semeval)\n",
    "total_tokens_semeval = np.concatenate((train_tokens_semeval, val_tokens_semeval))\n",
    "\n",
    "sum_total_tokens_semeval = np.sum(total_tokens_semeval)\n",
    "sum_train_tokens_semeval = np.sum(train_tokens_semeval)\n",
    "sum_val_tokens_semeval = np.sum(val_tokens_semeval)\n",
    "\n",
    "print(f\"sum_total_tokens_semeval-->{sum_total_tokens_semeval}\")\n",
    "print(f\"sum_train_tokens_semeval-->{sum_train_tokens_semeval}\")\n",
    "print(f\"sum_val_tokens_semeval-->{sum_val_tokens_semeval}\\n\")\n",
    "\n",
    "print(f\"np.avg(total_tokens_semeval)-->{np.average(total_tokens_semeval)}\\n\")\n",
    "\n",
    "print(f\"sum_total_tokens_semeval*0.15-->{sum_total_tokens_semeval*0.15}\")"
   ]
  },
  {
   "cell_type": "code",
   "execution_count": 24,
   "metadata": {},
   "outputs": [
    {
     "data": {
      "text/plain": [
       "100.97647611595742"
      ]
     },
     "execution_count": 24,
     "metadata": {},
     "output_type": "execute_result"
    }
   ],
   "source": [
    "(154515.3 - 99770)/542.1589473684211"
   ]
  },
  {
   "cell_type": "code",
   "execution_count": 25,
   "metadata": {},
   "outputs": [
    {
     "data": {
      "text/plain": [
       "dict_keys(['id', 'statement', 'primary_evidence', 'label', 'secondary_evidence', 'retrieved_primary_sentence', 'retrieved_secondary_sentence'])"
      ]
     },
     "execution_count": 25,
     "metadata": {},
     "output_type": "execute_result"
    }
   ],
   "source": [
    "train_semeval_data[0].keys()"
   ]
  },
  {
   "cell_type": "code",
   "execution_count": 31,
   "metadata": {},
   "outputs": [],
   "source": [
    "import random"
   ]
  },
  {
   "cell_type": "code",
   "execution_count": 76,
   "metadata": {},
   "outputs": [
    {
     "data": {
      "text/plain": [
       "300"
      ]
     },
     "execution_count": 76,
     "metadata": {},
     "output_type": "execute_result"
    }
   ],
   "source": [
    "group_E = [item for item in train_semeval_data if item['label'] == 'Entailment']\n",
    "group_C = [item for item in train_semeval_data if item['label'] == 'Contradiction']\n",
    "\n",
    "# Set the seed for reproducibility\n",
    "random.seed(33)\n",
    "\n",
    "# Calculate half the sample size\n",
    "n = 100\n",
    "half_n = n // 2\n",
    "\n",
    "# Randomly select half the elements from each group\n",
    "selected_E = random.sample(group_E, half_n)\n",
    "selected_C = random.sample(group_C, half_n)\n",
    "\n",
    "semeval_15percent_random = val_semeval_data + selected_E + selected_C\n",
    "len(semeval_15percent_random)"
   ]
  },
  {
   "cell_type": "code",
   "execution_count": null,
   "metadata": {},
   "outputs": [],
   "source": []
  },
  {
   "cell_type": "code",
   "execution_count": 77,
   "metadata": {},
   "outputs": [
    {
     "name": "stdout",
     "output_type": "stream",
     "text": [
      "Examples with retreival svaed to DATASETS/15percent_random/semeval.json\n"
     ]
    }
   ],
   "source": [
    "save_data2file(semeval_15percent_random, folder='DATASETS/15percent_random', file_name='semeval')"
   ]
  },
  {
   "cell_type": "code",
   "execution_count": 70,
   "metadata": {},
   "outputs": [
    {
     "name": "stdout",
     "output_type": "stream",
     "text": [
      "0 100\n",
      "1 200\n",
      "2 300\n"
     ]
    }
   ],
   "source": [
    "for i, j in enumerate([100,200,300]):\n",
    "    print(i,j)"
   ]
  },
  {
   "cell_type": "code",
   "execution_count": 72,
   "metadata": {},
   "outputs": [],
   "source": [
    "for i, ex_1 in enumerate(val_semeval_data):\n",
    "    for j, ex_2 in enumerate(val_semeval_data):\n",
    "        if i != j and ex_1 == ex_2:\n",
    "            print(i, j)\n",
    "            print(ex_1)\n",
    "            print(f\"\\n\\n\\n\\n\")\n",
    "            print(ex_2)"
   ]
  },
  {
   "cell_type": "markdown",
   "metadata": {},
   "source": [
    "## Contract NLI"
   ]
  },
  {
   "cell_type": "markdown",
   "metadata": {},
   "source": [
    "707 instances"
   ]
  },
  {
   "cell_type": "code",
   "execution_count": 10,
   "metadata": {},
   "outputs": [
    {
     "name": "stdout",
     "output_type": "stream",
     "text": [
      "LOADE\n",
      "Used data with already retrieved examples from DATASETS/ContractNLI_data/dev_w_retrieved_task_w_2_labels_False.json\n",
      "filtering out the NotMentioned examples...\n",
      "Counter({'Entailment': 519, 'Contradiction': 95})\n",
      "LOADE\n",
      "Used data with already retrieved examples from DATASETS/ContractNLI_data/train_w_retrieved_task_w_2_labels_False.json\n",
      "filtering out the NotMentioned examples...\n",
      "Counter({'Entailment': 3530, 'Contradiction': 841})\n"
     ]
    }
   ],
   "source": [
    "val_contractnli_data = extract_ContractNLI_data()\n",
    "train_contractnli_data = extract_ContractNLI_data(type='train')\n",
    "\n",
    "full_contractnli_data = train_contractnli_data + val_contractnli_data"
   ]
  },
  {
   "cell_type": "code",
   "execution_count": 11,
   "metadata": {},
   "outputs": [
    {
     "data": {
      "text/plain": [
       "dict_keys(['text', 'statement', 'label', 'spans', 'spans_index', 'retrieved_sentences'])"
      ]
     },
     "execution_count": 11,
     "metadata": {},
     "output_type": "execute_result"
    }
   ],
   "source": [
    "val_contractnli_data[0].keys()"
   ]
  },
  {
   "cell_type": "code",
   "execution_count": 12,
   "metadata": {},
   "outputs": [],
   "source": [
    "val_no_tokens_contractnli = []\n",
    "\n",
    "for ins in val_contractnli_data:\n",
    "    ins_text = ins['text'] + '\\n' + ins['statement'] + \"\\n\".join(ins['retrieved_sentences'])\n",
    "    ins_tokenized = tokenizer(ins_text, return_tensors=\"pt\", return_attention_mask=False)\n",
    "    val_no_tokens_contractnli.append(int(len(ins_tokenized['input_ids'][0])))\n",
    "\n",
    "train_no_tokens_contractnli = []\n",
    "\n",
    "for ins in train_contractnli_data:\n",
    "    ins_text = ins['text'] + '\\n' + ins['statement'] + \"\\n\".join(ins['retrieved_sentences'])\n",
    "    ins_tokenized = tokenizer(ins_text, return_tensors=\"pt\", return_attention_mask=False)\n",
    "    train_no_tokens_contractnli.append(int(len(ins_tokenized['input_ids'][0]))) \n",
    "\n",
    "full_no_tokens_contractnli = []\n",
    "\n",
    "for ins in full_contractnli_data:\n",
    "    ins_text = ins['text'] + '\\n' + ins['statement'] + \"\\n\".join(ins['retrieved_sentences'])\n",
    "    ins_tokenized = tokenizer(ins_text, return_tensors=\"pt\", return_attention_mask=False)\n",
    "    full_no_tokens_contractnli.append(int(len(ins_tokenized['input_ids'][0])))"
   ]
  },
  {
   "cell_type": "code",
   "execution_count": 19,
   "metadata": {},
   "outputs": [
    {
     "name": "stdout",
     "output_type": "stream",
     "text": [
      "val sum-->1960916\n",
      "train sum-->12969620\n",
      "full sum-->14930536\n",
      "\n",
      "train avg-->2967.1974376572866\n"
     ]
    }
   ],
   "source": [
    "val_no_tokens_contractnli = np.array(val_no_tokens_contractnli)\n",
    "train_no_tokens_contractnli = np.array(train_no_tokens_contractnli)\n",
    "full_no_tokens_contractnli = np.array(full_no_tokens_contractnli)\n",
    "\n",
    "sum_val_no_tokens_contractnli = np.sum(val_no_tokens_contractnli)\n",
    "sum_train_no_tokens_contractnli = np.sum(train_no_tokens_contractnli)\n",
    "sum_full_no_tokens_contractnli = np.sum(full_no_tokens_contractnli)\n",
    "\n",
    "avg_train_no_tokens_contractnli = np.average(train_no_tokens_contractnli)\n",
    "\n",
    "\n",
    "print(f\"val sum-->{sum_val_no_tokens_contractnli}\")\n",
    "print(f\"train sum-->{sum_train_no_tokens_contractnli}\")\n",
    "print(f\"full sum-->{sum_full_no_tokens_contractnli}\\n\")\n",
    "print(f\"train avg-->{avg_train_no_tokens_contractnli}\")"
   ]
  },
  {
   "cell_type": "code",
   "execution_count": 20,
   "metadata": {},
   "outputs": [
    {
     "data": {
      "text/plain": [
       "93.91501774146043"
      ]
     },
     "execution_count": 20,
     "metadata": {},
     "output_type": "execute_result"
    }
   ],
   "source": [
    "(0.15-sum_val_no_tokens_contractnli/sum_full_no_tokens_contractnli)*sum_full_no_tokens_contractnli/avg_train_no_tokens_contractnli"
   ]
  },
  {
   "cell_type": "code",
   "execution_count": 21,
   "metadata": {},
   "outputs": [
    {
     "data": {
      "text/plain": [
       "2239580.4"
      ]
     },
     "execution_count": 21,
     "metadata": {},
     "output_type": "execute_result"
    }
   ],
   "source": [
    "0.15*sum_full_no_tokens_contractnli"
   ]
  },
  {
   "cell_type": "code",
   "execution_count": 22,
   "metadata": {},
   "outputs": [
    {
     "data": {
      "text/plain": [
       "2239832.559139785"
      ]
     },
     "execution_count": 22,
     "metadata": {},
     "output_type": "execute_result"
    }
   ],
   "source": [
    "sum_val_no_tokens_contractnli + 94*avg_train_no_tokens_contractnli"
   ]
  },
  {
   "cell_type": "markdown",
   "metadata": {},
   "source": [
    "- Adicionar 94 exemplos mantendo o rácio og"
   ]
  },
  {
   "cell_type": "code",
   "execution_count": 26,
   "metadata": {},
   "outputs": [
    {
     "data": {
      "text/plain": [
       "614"
      ]
     },
     "execution_count": 26,
     "metadata": {},
     "output_type": "execute_result"
    }
   ],
   "source": [
    "len(val_contractnli_data)"
   ]
  },
  {
   "cell_type": "code",
   "execution_count": 25,
   "metadata": {},
   "outputs": [
    {
     "data": {
      "text/plain": [
       "707"
      ]
     },
     "execution_count": 25,
     "metadata": {},
     "output_type": "execute_result"
    }
   ],
   "source": [
    "group_E = [item for item in train_contractnli_data if item['label'] == 'Entailment']\n",
    "group_C = [item for item in train_contractnli_data if item['label'] == 'Contradiction']\n",
    "\n",
    "# Set the seed for reproducibility\n",
    "random.seed(33)\n",
    "\n",
    "# Calculate half the sample size\n",
    "n = 94\n",
    "E_n = int(519/(519+95)*n)\n",
    "C_n = int(95/(519+95)*n)\n",
    "\n",
    "# Randomly select half the elements from each group\n",
    "selected_E = random.sample(group_E, E_n)\n",
    "selected_C = random.sample(group_C, C_n)\n",
    "\n",
    "contractnli_15percent_random = val_contractnli_data + selected_E + selected_C\n",
    "len(contractnli_15percent_random)"
   ]
  },
  {
   "cell_type": "code",
   "execution_count": 27,
   "metadata": {},
   "outputs": [
    {
     "name": "stdout",
     "output_type": "stream",
     "text": [
      "Data saved to DATASETS/15percent_random/contractnli.json\n"
     ]
    }
   ],
   "source": [
    "save_data2file(contractnli_15percent_random, folder='DATASETS/15percent_random', file_name='contractnli')"
   ]
  },
  {
   "cell_type": "markdown",
   "metadata": {},
   "source": [
    "## MEDIQA"
   ]
  },
  {
   "cell_type": "code",
   "execution_count": 5,
   "metadata": {},
   "outputs": [
    {
     "name": "stdout",
     "output_type": "stream",
     "text": [
      "Used data with already retrieved examples from DATASETS/MEDIQASUM_data/valid_w_retrieved.json\n",
      "Used data with already retrieved examples from DATASETS/MEDIQASUM_data/train_w_retrieved.json\n"
     ]
    }
   ],
   "source": [
    "val_mediqa_data = extract_MEDIQASUM_data()\n",
    "train_mediqa_data = extract_MEDIQASUM_data(type='train')\n",
    "\n",
    "full_mediqa_data = train_mediqa_data + val_mediqa_data"
   ]
  },
  {
   "cell_type": "code",
   "execution_count": 6,
   "metadata": {},
   "outputs": [
    {
     "data": {
      "text/plain": [
       "{'dataset': 'virtassist',\n",
       " 'encounter_id': 'D2N001',\n",
       " 'dialogue': \"[doctor] hi , martha . how are you ?\\n[patient] i'm doing okay . how are you ?\\n[doctor] i'm doing okay . so , i know the nurse told you about dax . i'd like to tell dax a little bit about you , okay ?\\n[patient] okay .\\n[doctor] martha is a 50-year-old female with a past medical history significant for congestive heart failure , depression and hypertension who presents for her annual exam . so , martha , it's been a year since i've seen you . how are you doing ?\\n[patient] i'm doing well . i've been traveling a lot recently since things have , have gotten a bit lighter . and i got my , my vaccine , so i feel safer about traveling . i've been doing a lot of hiking . uh , went to washington last weekend to hike in northern cascades, like around the mount baker area .\\n[doctor] nice . that's great . i'm glad to hear that you're staying active , you know . i , i just love this weather . i'm so happy the summer is over . i'm definitely more of a fall person .\\n[patient] yes , fall foliage is the best .\\n[doctor] yeah . um , so tell me , how are you doing with the congestive heart failure ? how are you doing watching your diet ? i know we've talked about watching a low sodium diet . are you doing okay with that ?\\n[patient] i've been doing well with that . i resisted , as much , as i could , from the tater tots , you know , the soft pretzels , the salty foods that i , i love to eat . and i've been doing a really good job .\\n[doctor] okay , all right . well , i'm glad to hear that . and you're taking your medication ?\\n[patient] yes .\\n[doctor] okay , good . and any symptoms like chest pains , shortness of breath , any swelling in your legs ?\\n[patient] no , not that i've noticed .\\n[doctor] okay , all right . and then in terms of your depression , i know that we tried to stay off of medication in the past because you're on medications for your other problems . how are you doing ? and i know that you enrolled into therapy . is that helping ? or-\\n[patient] yeah , it's been helping a lot . i've been going every week , um , for the past year since my last annual exam . and that's been really helpful for me .\\n[doctor] okay . so , no , no issues , no feelings of wanting to harm yourself or hurt others ?\\n[patient] no , nothing like that .\\n[doctor] okay , all right . and then in terms of your high blood pressure , i know that you and i have kind of battled in the past with you remembering to take some of your blood pressure medications . how are you doing with that ?\\n[patient] i'm still forgetting to take my blood pressure medication . and i've noticed when work gets more stressful , my blood pressure goes up .\\n[doctor] okay . and , and so how has work going for you ?\\n[patient] it's been okay . it's been a lot of long hours , late nights . a lot of , um , you know , fiscal year end data that i've been having to pull . so , a lot of responsibility , which is good . but with the responsibility comes the stress .\\n[doctor] yeah , okay , all right . i understand . um , all right . well , i know that you did a review of system sheet when you checked in with the nurse . i know that you were endorsing some nasal congestion from some of the fall pollen and allergies . any other symptoms , nausea or vomiting , abdominal pain , anything like that ?\\n[patient] no , nothing like that .\\n[doctor] no , okay , all right . well , i'm gon na go ahead and do a quick physical exam , okay ?\\n[patient] okay .\\n[doctor] hey , dragon , show me the blood pressure . so , yeah , looking at your blood pressure today here in the office , it is a little elevated . you know , it could just , you could just be nervous . uh , let's look at some of the past readings . hey , dragon , show me the blood pressure readings . hey , dragon , show me the blood pressure readings . here we go . uh , so they are running on the higher side . um , y- you know , i , i do think that , you know , i'd like to see you take your medication a little bit more , so that we can get that under control a little bit better , okay ?\\n[patient] okay .\\n[doctor] so , i'm just gon na check out your heart and your lungs . and you know , let you know what i find , okay ?\\n[patient] okay .\\n[doctor] okay . so , on your physical examination , you know , everything looks good . on your heart exam , i do appreciate a three out of six systolic ejection murmur , which i've heard in the past , okay ? and on your lower extremities , i do appreciate one plus pitting edema , so you do have a little bit of fluid in your legs , okay ?\\n[patient] okay .\\n[doctor] let's go ahead , i wan na look at some of your results , okay ? hey , dragon , show me the echocardiogram . so , this is the result of the echocardiogram that we did last year . it showed that you have that low-ish pumping function of your heart at about 45 % . and it also sh- shows some mitral regurgitation , that's that heart murmur that i heard , okay ?\\n[doctor] um , hey , dragon , show me the lipid panel . so , looking at your lipid panel from last year , you know , everything , your cholesterol was like , a tiny bit high . but it was n't too , too bad , so i know you're trying to watch your diet . so , we'll repeat another one this year , okay ?\\n[patient] okay .\\n[doctor] um , so i wan na just go over a little bit about my assessment and my plan for you , okay ? so , for your first problem your congestive heart failure , um , i wan na continue you on your current medications . but i do wan na increase your lisinopril to 40 milligrams a day , just because your blood pressure's high . and you know , you are retaining a little bit of fluid . i also wan na start you on some lasix , you know , 20 milligrams a day . and have you continue to watch your , your diet , okay ?\\n[patient] okay .\\n[doctor] i also wan na repeat another echocardiogram , okay ?\\n[patient] all right .\\n[doctor] hey , dragon , order an echocardiogram . from a depression standpoint , it sounds like you're doing really well with that . so , i'm , i'm really happy for you . i'm , i'm glad to see that you're in therapy and you're doing really well . i do n't feel the need to start you on any medications this year , unless you feel differently .\\n[patient] no , i feel the same way .\\n[doctor] okay , all right . and then for your last problem your hypertension , you know , again i , i , i think it's out of control . but we'll see , i think , you know , i'd like to see you take the lisinopril as directed , okay ? uh , i want you to record your blood pressures within the patient , you know , take your blood pressure every day . record them to me for like , about a week , so i have to see if we have to add another agent , okay ? 'cause we need to get that under better control for your heart failure to be more successful , okay ?\\n[patient] okay .\\n[doctor] do you have any questions ? , and i forgot . for your annual exam , you're due for a mammogram , so we have to schedule for that , as well , okay ?\\n[patient] okay .\\n[doctor] okay . do you have any questions ?\\n[patient] can i take all my pills at the same time ?\\n[doctor] yeah .\\n[patient] 'cause i've been trying to take them at different times of the day , 'cause i did n't know if it was bad to take them all at once or i should separate them . i do n't know .\\n[doctor] yeah . you can certainly take them , you know , all at the same time , as long , as yeah , they're all one scale . you can take them all at the same time . just set an alarm-\\n[patient] okay .\\n[doctor] . some time during the day to take them , okay ?\\n[patient] that might help me remember better .\\n[doctor] all right . that sounds good . all right , well , it's good to see you .\\n[patient] good seeing you too .\\n[doctor] hey , dragon , finalize the note .\",\n",
       " 'note': \"CHIEF COMPLAINT\\n\\nAnnual exam.\\n\\nHISTORY OF PRESENT ILLNESS\\n\\nMartha Collins is a 50-year-old female with a past medical history significant for congestive heart failure, depression, and hypertension who presents for her annual exam. It has been a year since I last saw the patient.\\n\\nThe patient has been traveling a lot recently since things have gotten a bit better. She reports that she got her COVID-19 vaccine so she feels safer about traveling. She has been doing a lot of hiking.\\n\\nShe reports that she is staying active. She has continued watching her diet and she is doing well with that. The patient states that she is avoiding salty foods that she likes to eat. She has continued utilizing her medications. The patient denies any chest pain, shortness of breath, or swelling in her legs.\\n\\nRegarding her depression, she reports that she has been going to therapy every week for the past year. This has been really helpful for her. She denies suicidal or homicidal ideation.\\n\\nThe patient reports that she is still forgetting to take her blood pressure medication. She has noticed that when work gets more stressful, her blood pressure goes up. She reports that work has been going okay, but it has been a lot of long hours lately.\\n\\nShe endorses some nasal congestion from some of the fall allergies. She denies any other symptoms of nausea, vomiting, abdominal pain.\\n\\nREVIEW OF SYSTEMS\\n\\n• Ears, Nose, Mouth and Throat: Endorses nasal congestion from allergies.\\n• Cardiovascular: Denies chest pain or dyspnea on exertion.\\n• Respiratory: Denies shortness of breath.\\n• Gastrointestinal: Denies abdominal pain, nausea, or vomiting.\\n• Psychiatric: Endorses depression. Denies suicidal or homicidal ideations.\\n\\nPHYSICAL EXAMINATION\\n\\n• Cardiovascular: Grade 3/6 systolic ejection murmur.\\n1+ pitting edema of the bilateral lower extremities.\\n\\nVITALS REVIEWED\\n\\n• Blood Pressure: Elevated.\\n\\nRESULTS\\n\\nEchocardiogram demonstrates decreased ejection fraction of 45%. Mitral regurgitation is present.\\n\\nLipid panel: Elevated cholesterol.\\n\\nASSESSMENT AND PLAN\\n\\nMartha Collins is a 50-year-old female with a past medical history significant for congestive heart failure, depression, and hypertension who presents for her annual exam.\\n\\nCongestive heart failure.\\n• Medical Reasoning: She has been compliant with her medication and dietary modifications. Her previous year's echocardiogram demonstrated a reduced ejection fraction of 45%, as well as some mitral regurgitation. Her cholesterol levels were slightly elevated on her lipid panel from last year.\\n• Additional Testing: We will order a repeat echocardiogram. We will also repeat a lipid panel this year.\\n• Medical Treatment: She will continue with her current medications. We will increase her lisinopril to 40 mg daily and initiate Lasix 20 mg daily.\\n• Patient Education and Counseling: I encouraged her to continue with dietary modifications.\\n\\nDepression.\\n• Medical Reasoning: She is doing well with weekly therapy.\\n\\nHypertension.\\n• Medical Reasoning: She has been compliant with dietary modifications but has been inconsistent with the use of her medication. She attributes elevations in her blood pressure to increased stress.\\n• Medical Treatment: We will increase her lisinopril to 40 mg daily as noted above.\\n• Patient Education and Counseling: I encouraged the patient to take her lisinopril as directed. I advised her to monitor her blood pressures at home for the next week and report them to me.\\n\\nHealthcare maintenance.\\n• Medical Reasoning: The patient is due for her routine mammogram.\\n• Additional Testing: We will order a mammogram and have this scheduled for her.\\n\\nPatient Agreements: The patient understands and agrees with the recommended medical treatment plan.\\n\",\n",
       " 'retrieved_example_note': 'CHIEF COMPLAINT\\n\\nAbnormal labs.\\n\\nHISTORY OF PRESENT ILLNESS\\n\\nMr. Vincent Young is a 56-year-old male who presents to the clinic today for evaluation of abnormal labs.\\n\\nThe patient was seen in the emergency room where he was found to have low hemoglobin. He notes that he has been very lightheaded. He denies any hematochezia. The patient does note some decrease in appetite. The patient reports some nausea when he is sitting in the back of the car. He denies any abdominal pain, fever, chills, vomiting, or recent weight loss. The patient also denies night sweats, or a cough.\\n\\nThe patient notes that he is doing well status post knee arthroplasty. He is walking around without any problems.\\n\\nThe patient had a biopsy a few years ago for potential lung cancer, however the nodule was benign. He is doing well.\\n\\nREVIEW OF SYSTEMS\\n\\n• Constitutional: No fevers, chills, or weight loss.\\n• Gastrointestinal: Endorses decreased appetite and mild nausea. Denies hematochezia.\\n• Neurological: Endorse lightheadedness.\\n\\nPHYSICAL EXAMINATION\\n\\n• Constitutional: in no apparent distress.\\n• Neck: Supple without thyromegaly or lymphadenopathy.\\n• Respiratory: Lungs are clear to auscultation bilaterally. No wheezes, rales, or rhonchi.\\n• Cardiovascular: Regular rate and rhythm. No murmurs, gallops, or rubs. No extra heart sounds.\\n• Gastrointestinal: Right lower quadrant tender to palpation.\\n• Musculoskeletal: No lower extremity edema\\n\\nRESULTS\\n\\nHemoglobin- 8.2, which is low for his height and weight.\\n\\nEndoscopy from the emergency room showed gastritis and a slight polyp. The biopsy results are still pending.\\n\\nASSESSMENT AND PLAN\\n\\nVincent Young is a 56-year-old male who presents today for lab review.\\n\\nNew found anemia.\\n• Medical Reasoning: His hemoglobin was 8.2, which is low for his height and weight. Endoscopy from the hospital showed gastritis which could be the source of bleeding. The endoscopy also showed a polyp and a polypectomy was performed. The pathology is still pending.\\n• Patient Education and Counseling: I encouraged the patient to reduce his caffeine consumption avoid NSAIDs and alcohol.\\n• Additional Testing: Repeat CBC was ordered.\\n• Medical Treatment: I prescribed Protonix 40 mg once a day for gastritis.\\n\\nPatient Agreements: The patient understands and agrees with the recommended medical treatment plan.\\n'}"
      ]
     },
     "execution_count": 6,
     "metadata": {},
     "output_type": "execute_result"
    }
   ],
   "source": [
    "train_mediqa_data[0]"
   ]
  },
  {
   "cell_type": "code",
   "execution_count": 7,
   "metadata": {},
   "outputs": [
    {
     "data": {
      "text/plain": [
       "dict_keys(['dataset', 'encounter_id', 'dialogue', 'note', 'retrieved_example_note'])"
      ]
     },
     "execution_count": 7,
     "metadata": {},
     "output_type": "execute_result"
    }
   ],
   "source": [
    "full_mediqa_data[0].keys()"
   ]
  },
  {
   "cell_type": "code",
   "execution_count": 8,
   "metadata": {},
   "outputs": [],
   "source": [
    "val_no_tokens_mediqa = []\n",
    "train_no_tokens_mediqa = []\n",
    "full_no_tokens_mediqa = []\n",
    "\n",
    "no_tokens_note = []\n",
    "\n",
    "for ins in val_mediqa_data:\n",
    "\n",
    "    ins_text = ins['dialogue'] + '\\n' + ins['retrieved_example_note']\n",
    "    ins_tokenized = tokenizer(ins_text, return_tensors=\"pt\", return_attention_mask=False)\n",
    "    val_no_tokens_mediqa.append(int(len(ins_tokenized['input_ids'][0])))\n",
    "\n",
    "    note_tokenized = tokenizer(ins['note'], return_tensors=\"pt\", return_attention_mask=False)\n",
    "    no_tokens_note.append(int(len(note_tokenized['input_ids'][0])))\n",
    "\n",
    "for ins in train_mediqa_data:\n",
    "\n",
    "    ins_text = ins['dialogue'] + '\\n' + ins['retrieved_example_note']\n",
    "    ins_tokenized = tokenizer(ins_text, return_tensors=\"pt\", return_attention_mask=False)\n",
    "    train_no_tokens_mediqa.append(int(len(ins_tokenized['input_ids'][0])))\n",
    "\n",
    "    note_tokenized = tokenizer(ins['note'], return_tensors=\"pt\", return_attention_mask=False)\n",
    "    no_tokens_note.append(int(len(note_tokenized['input_ids'][0])))\n",
    "\n",
    "for ins in full_mediqa_data:\n",
    "\n",
    "    ins_text = ins['dialogue'] + '\\n' + ins['retrieved_example_note']\n",
    "    ins_tokenized = tokenizer(ins_text, return_tensors=\"pt\", return_attention_mask=False)\n",
    "    full_no_tokens_mediqa.append(int(len(ins_tokenized['input_ids'][0])))\n",
    "\n",
    "    note_tokenized = tokenizer(ins['note'], return_tensors=\"pt\", return_attention_mask=False)\n",
    "    no_tokens_note.append(int(len(note_tokenized['input_ids'][0])))"
   ]
  },
  {
   "cell_type": "code",
   "execution_count": 9,
   "metadata": {},
   "outputs": [
    {
     "name": "stdout",
     "output_type": "stream",
     "text": [
      "val sum-->49151\n",
      "train sum-->175936\n",
      "full sum-->225087\n",
      "\n",
      "train avg-->2625.910447761194\n"
     ]
    }
   ],
   "source": [
    "val_no_tokens_mediqa = np.array(val_no_tokens_mediqa)\n",
    "train_no_tokens_mediqa = np.array(train_no_tokens_mediqa)\n",
    "full_no_tokens_mediqa = np.array(full_no_tokens_mediqa)\n",
    "\n",
    "sum_val_no_tokens_mediqa = np.sum(val_no_tokens_mediqa)\n",
    "sum_train_no_tokens_mediqa = np.sum(train_no_tokens_mediqa)\n",
    "sum_full_no_tokens_mediqa = np.sum(full_no_tokens_mediqa)\n",
    "\n",
    "avg_train_no_tokens_mediqa = np.average(train_no_tokens_mediqa)\n",
    "\n",
    "\n",
    "print(f\"val sum-->{sum_val_no_tokens_mediqa}\")\n",
    "print(f\"train sum-->{sum_train_no_tokens_mediqa}\")\n",
    "print(f\"full sum-->{sum_full_no_tokens_mediqa}\\n\")\n",
    "print(f\"train avg-->{avg_train_no_tokens_mediqa}\")"
   ]
  },
  {
   "cell_type": "code",
   "execution_count": 10,
   "metadata": {},
   "outputs": [
    {
     "data": {
      "text/plain": [
       "20"
      ]
     },
     "execution_count": 10,
     "metadata": {},
     "output_type": "execute_result"
    }
   ],
   "source": [
    "len(val_mediqa_data)"
   ]
  },
  {
   "cell_type": "code",
   "execution_count": 11,
   "metadata": {},
   "outputs": [
    {
     "data": {
      "text/plain": [
       "67"
      ]
     },
     "execution_count": 11,
     "metadata": {},
     "output_type": "execute_result"
    }
   ],
   "source": [
    "len(train_mediqa_data)"
   ]
  },
  {
   "cell_type": "code",
   "execution_count": 12,
   "metadata": {},
   "outputs": [
    {
     "data": {
      "text/plain": [
       "-5.860043709076029"
      ]
     },
     "execution_count": 12,
     "metadata": {},
     "output_type": "execute_result"
    }
   ],
   "source": [
    "(0.15*sum_full_no_tokens_mediqa - sum_val_no_tokens_mediqa)/avg_train_no_tokens_mediqa"
   ]
  },
  {
   "cell_type": "code",
   "execution_count": 15,
   "metadata": {},
   "outputs": [
    {
     "data": {
      "text/plain": [
       "15"
      ]
     },
     "execution_count": 15,
     "metadata": {},
     "output_type": "execute_result"
    }
   ],
   "source": [
    "# Set the seed for reproducibility\n",
    "random.seed(33)\n",
    "\n",
    "mediqa_15percent_random = random.sample(val_mediqa_data, 15)\n",
    "len(mediqa_15percent_random)"
   ]
  },
  {
   "cell_type": "code",
   "execution_count": 16,
   "metadata": {},
   "outputs": [
    {
     "name": "stdout",
     "output_type": "stream",
     "text": [
      "Data saved to DATASETS/15percent_random/mediqasum.json\n"
     ]
    }
   ],
   "source": [
    "save_data2file(mediqa_15percent_random, folder='DATASETS/15percent_random', file_name='mediqasum')"
   ]
  },
  {
   "cell_type": "code",
   "execution_count": 17,
   "metadata": {},
   "outputs": [
    {
     "name": "stdout",
     "output_type": "stream",
     "text": [
      "Used data with already retrieved examples from DATASETS/DATA_QUALITY/MEDIQASUM_data_quality.json\n"
     ]
    }
   ],
   "source": [
    "mediqa_data_dq = extract_MEDIQASUM_data(use_data_sorted_by_dq=True)"
   ]
  },
  {
   "cell_type": "code",
   "execution_count": 22,
   "metadata": {},
   "outputs": [
    {
     "name": "stdout",
     "output_type": "stream",
     "text": [
      "0.9849911332130432\n",
      "0.9536188244819641\n"
     ]
    }
   ],
   "source": [
    "print(mediqa_data_dq[0]['score'])\n",
    "print(mediqa_data_dq[50]['score'])"
   ]
  },
  {
   "cell_type": "code",
   "execution_count": 19,
   "metadata": {},
   "outputs": [
    {
     "data": {
      "text/plain": [
       "dict_keys(['dataset', 'encounter_id', 'dialogue', 'note', 'retrieved_example_note', 'set', 'score'])"
      ]
     },
     "execution_count": 19,
     "metadata": {},
     "output_type": "execute_result"
    }
   ],
   "source": [
    "mediqa_data_dq[0].keys()"
   ]
  },
  {
   "cell_type": "code",
   "execution_count": 23,
   "metadata": {},
   "outputs": [],
   "source": [
    "mediqa_15percent_rev_dq = mediqa_data_dq[-15:]"
   ]
  },
  {
   "cell_type": "code",
   "execution_count": 24,
   "metadata": {},
   "outputs": [
    {
     "data": {
      "text/plain": [
       "15"
      ]
     },
     "execution_count": 24,
     "metadata": {},
     "output_type": "execute_result"
    }
   ],
   "source": [
    "len(mediqa_15percent_rev_dq)"
   ]
  },
  {
   "cell_type": "code",
   "execution_count": 25,
   "metadata": {},
   "outputs": [
    {
     "data": {
      "text/plain": [
       "0.9414290189743042"
      ]
     },
     "execution_count": 25,
     "metadata": {},
     "output_type": "execute_result"
    }
   ],
   "source": [
    "mediqa_15percent_rev_dq[0]['score']"
   ]
  },
  {
   "cell_type": "code",
   "execution_count": 26,
   "metadata": {},
   "outputs": [
    {
     "name": "stdout",
     "output_type": "stream",
     "text": [
      "Data saved to DATASETS/15percent_rev_dq/mediqasum.json\n"
     ]
    }
   ],
   "source": [
    "save_data2file(mediqa_15percent_rev_dq, folder=\"DATASETS/15percent_rev_dq\", file_name='mediqasum')"
   ]
  },
  {
   "cell_type": "code",
   "execution_count": 13,
   "metadata": {},
   "outputs": [
    {
     "name": "stdout",
     "output_type": "stream",
     "text": [
      "Note sizes\n",
      "mean-->771.5977011494252\n",
      "75th percentile-->631.75\n",
      "25th percentile-->934.5\n",
      "max-->1511\n",
      "sum-->134258\n"
     ]
    }
   ],
   "source": [
    "no_tokens_note = np.array(no_tokens_note)\n",
    "\n",
    "print(f\"Note sizes\")\n",
    "print(f\"mean-->{np.mean(no_tokens_note)}\")\n",
    "print(f\"75th percentile-->{np.percentile(no_tokens_note, 25)}\")\n",
    "print(f\"25th percentile-->{np.percentile(no_tokens_note, 75)}\")\n",
    "print(f\"max-->{np.max(no_tokens_note)}\")\n",
    "\n",
    "print(f\"sum-->{np.sum(no_tokens_note)}\")"
   ]
  },
  {
   "cell_type": "markdown",
   "metadata": {},
   "source": [
    "## Legal SUM"
   ]
  },
  {
   "cell_type": "code",
   "execution_count": 5,
   "metadata": {},
   "outputs": [
    {
     "name": "stdout",
     "output_type": "stream",
     "text": [
      "Used data with already retrieved examples from DATASETS/LegalSumTOSDR_data/train_w_retrieved.json\n"
     ]
    }
   ],
   "source": [
    "legalsum_data = extract_LegalSumTOSDR_data()"
   ]
  },
  {
   "cell_type": "code",
   "execution_count": 6,
   "metadata": {},
   "outputs": [
    {
     "data": {
      "text/plain": [
       "dict_keys(['original_text', 'reference_summary', 'uid', 'retrieved_example_summary'])"
      ]
     },
     "execution_count": 6,
     "metadata": {},
     "output_type": "execute_result"
    }
   ],
   "source": [
    "legalsum_data[0].keys()"
   ]
  },
  {
   "cell_type": "code",
   "execution_count": 7,
   "metadata": {},
   "outputs": [
    {
     "data": {
      "text/plain": [
       "{'original_text': 'search encrypt uses cookies to determine the effectiveness of our own marketing campaigns. because we don t track any personally identifiable information we can t do more than determine that a specific user searched for whatever search terms they searched for. we know nothing about that particular user and we don t know anything identifiable about the user. using cookies also allows us to encrypt your search queries on the browser to help hide the history of what you searched for on the machine.',\n",
       " 'reference_summary': 'this service requires first party cookies which are cookies that only belong to the domain of the service and not a third party.',\n",
       " 'uid': 'tosdr112',\n",
       " 'retrieved_example_summary': 'this service does not track you.'}"
      ]
     },
     "execution_count": 7,
     "metadata": {},
     "output_type": "execute_result"
    }
   ],
   "source": [
    "legalsum_data[0]"
   ]
  },
  {
   "cell_type": "code",
   "execution_count": 8,
   "metadata": {},
   "outputs": [],
   "source": [
    "no_tokens_legalsum = []\n",
    "target_no_tokens = []\n",
    "\n",
    "for ins in legalsum_data:\n",
    "\n",
    "    ins_text = ins['original_text']\n",
    "    ins_tokenized = tokenizer(ins_text, return_tensors=\"pt\", return_attention_mask=False)\n",
    "    no_tokens_legalsum.append(int(len(ins_tokenized['input_ids'][0])))\n",
    "\n",
    "    target_tokenized = tokenizer(ins['reference_summary'], return_tensors=\"pt\", return_attention_mask=False)\n",
    "    target_no_tokens.append(int(len(target_tokenized['input_ids'][0])))"
   ]
  },
  {
   "cell_type": "code",
   "execution_count": 9,
   "metadata": {},
   "outputs": [
    {
     "name": "stdout",
     "output_type": "stream",
     "text": [
      "avg-->124.45505617977528\n",
      "sum-->44306\n"
     ]
    }
   ],
   "source": [
    "no_tokens_legalsum = np.array(no_tokens_legalsum)\n",
    "\n",
    "sum_tokens_legalsum = np.sum(no_tokens_legalsum)\n",
    "avg_no_tokens_legalsum = np.average(no_tokens_legalsum)\n",
    "\n",
    "print(f\"avg-->{avg_no_tokens_legalsum}\")\n",
    "print(f\"sum-->{sum_tokens_legalsum}\")"
   ]
  },
  {
   "cell_type": "code",
   "execution_count": null,
   "metadata": {},
   "outputs": [],
   "source": []
  },
  {
   "cell_type": "code",
   "execution_count": 10,
   "metadata": {},
   "outputs": [
    {
     "data": {
      "text/plain": [
       "356"
      ]
     },
     "execution_count": 10,
     "metadata": {},
     "output_type": "execute_result"
    }
   ],
   "source": [
    "len(legalsum_data)"
   ]
  },
  {
   "cell_type": "code",
   "execution_count": 25,
   "metadata": {},
   "outputs": [
    {
     "data": {
      "text/plain": [
       "53.4"
      ]
     },
     "execution_count": 25,
     "metadata": {},
     "output_type": "execute_result"
    }
   ],
   "source": [
    "(0.15*(sum_tokens_legalsum+100*356))/(avg_no_tokens_legalsum+100)"
   ]
  },
  {
   "cell_type": "code",
   "execution_count": 13,
   "metadata": {},
   "outputs": [],
   "source": [
    "no_to_15 = 54"
   ]
  },
  {
   "cell_type": "code",
   "execution_count": 14,
   "metadata": {},
   "outputs": [
    {
     "data": {
      "text/plain": [
       "54"
      ]
     },
     "execution_count": 14,
     "metadata": {},
     "output_type": "execute_result"
    }
   ],
   "source": [
    "# Set the seed for reproducibility\n",
    "random.seed(33)\n",
    "\n",
    "legalsum_15percent_random = random.sample(legalsum_data, no_to_15)\n",
    "len(legalsum_15percent_random)"
   ]
  },
  {
   "cell_type": "code",
   "execution_count": 15,
   "metadata": {},
   "outputs": [
    {
     "name": "stdout",
     "output_type": "stream",
     "text": [
      "Data saved to DATASETS/15percent_random/legalsum.json\n"
     ]
    }
   ],
   "source": [
    "save_data2file(legalsum_15percent_random, folder='DATASETS/15percent_random', file_name='legalsum')"
   ]
  },
  {
   "cell_type": "code",
   "execution_count": 16,
   "metadata": {},
   "outputs": [
    {
     "name": "stdout",
     "output_type": "stream",
     "text": [
      "Used data with already retrieved examples from DATASETS/DATA_QUALITY/LegalSumTOSDR_data_quality.json\n"
     ]
    }
   ],
   "source": [
    "legalsum_data_dq = extract_LegalSumTOSDR_data(use_data_sorted_by_dq=True)"
   ]
  },
  {
   "cell_type": "code",
   "execution_count": 18,
   "metadata": {},
   "outputs": [
    {
     "name": "stdout",
     "output_type": "stream",
     "text": [
      "0.9826619625091553\n",
      "0.9360153675079346\n",
      "0.003978084772825241\n"
     ]
    }
   ],
   "source": [
    "print(legalsum_data_dq[0]['score'])\n",
    "print(legalsum_data_dq[50]['score'])\n",
    "print(legalsum_data_dq[-1]['score'])"
   ]
  },
  {
   "cell_type": "code",
   "execution_count": 19,
   "metadata": {},
   "outputs": [
    {
     "data": {
      "text/plain": [
       "dict_keys(['original_text', 'reference_summary', 'uid', 'retrieved_example_summary', 'set', 'score'])"
      ]
     },
     "execution_count": 19,
     "metadata": {},
     "output_type": "execute_result"
    }
   ],
   "source": [
    "legalsum_data_dq[0].keys()"
   ]
  },
  {
   "cell_type": "code",
   "execution_count": 20,
   "metadata": {},
   "outputs": [],
   "source": [
    "legalsum_15percent_rev_dq = legalsum_data_dq[-no_to_15:]"
   ]
  },
  {
   "cell_type": "code",
   "execution_count": 21,
   "metadata": {},
   "outputs": [
    {
     "data": {
      "text/plain": [
       "54"
      ]
     },
     "execution_count": 21,
     "metadata": {},
     "output_type": "execute_result"
    }
   ],
   "source": [
    "len(legalsum_15percent_rev_dq)"
   ]
  },
  {
   "cell_type": "code",
   "execution_count": 23,
   "metadata": {},
   "outputs": [
    {
     "data": {
      "text/plain": [
       "0.003978084772825241"
      ]
     },
     "execution_count": 23,
     "metadata": {},
     "output_type": "execute_result"
    }
   ],
   "source": [
    "legalsum_15percent_rev_dq[-1]['score']"
   ]
  },
  {
   "cell_type": "code",
   "execution_count": 24,
   "metadata": {},
   "outputs": [
    {
     "name": "stdout",
     "output_type": "stream",
     "text": [
      "Data saved to DATASETS/15percent_rev_dq/legalsum.json\n"
     ]
    }
   ],
   "source": [
    "save_data2file(legalsum_15percent_rev_dq, folder=\"DATASETS/15percent_rev_dq\", file_name='legalsum')"
   ]
  },
  {
   "cell_type": "code",
   "execution_count": null,
   "metadata": {},
   "outputs": [],
   "source": []
  },
  {
   "cell_type": "code",
   "execution_count": null,
   "metadata": {},
   "outputs": [],
   "source": []
  },
  {
   "cell_type": "code",
   "execution_count": null,
   "metadata": {},
   "outputs": [],
   "source": []
  },
  {
   "cell_type": "code",
   "execution_count": 38,
   "metadata": {},
   "outputs": [
    {
     "name": "stdout",
     "output_type": "stream",
     "text": [
      "target no. of tokens\n",
      "mean-->17.068493150684933\n",
      "75th percentile-->10.0\n",
      "25th percentile-->19.0\n",
      "max-->61\n",
      "sum-->1246\n"
     ]
    }
   ],
   "source": [
    "target_no_tokens = np.array(target_no_tokens)\n",
    "\n",
    "print(f\"target no. of tokens\")\n",
    "print(f\"mean-->{np.mean(target_no_tokens)}\")\n",
    "print(f\"75th percentile-->{np.percentile(target_no_tokens, 25)}\")\n",
    "print(f\"25th percentile-->{np.percentile(target_no_tokens, 75)}\")\n",
    "print(f\"max-->{np.max(target_no_tokens)}\")\n",
    "print(f\"sum-->{np.sum(target_no_tokens)}\")"
   ]
  },
  {
   "cell_type": "markdown",
   "metadata": {},
   "source": [
    "## Compiled"
   ]
  },
  {
   "cell_type": "code",
   "execution_count": 35,
   "metadata": {},
   "outputs": [
    {
     "name": "stdout",
     "output_type": "stream",
     "text": [
      "SemEval\n",
      "\n",
      "mean-->498.85\n",
      "75th percentile-->211.5\n",
      "25th percentile-->694.75\n",
      "sum-->99770\n",
      "\n",
      "\n",
      "Contract NLI\n",
      "\n",
      "mean-->3193.674267100977\n",
      "75th percentile-->1846.25\n",
      "25th percentile-->3742.5\n",
      "sum-->1960916\n",
      "\n",
      "\n",
      "MEDIQA\n",
      "\n",
      "mean-->2474.05\n",
      "75th percentile-->2200.5\n",
      "25th percentile-->2989.75\n",
      "sum-->49481\n",
      "\n",
      "\n",
      "Legalsum\n",
      "\n",
      "mean-->85.04109589041096\n",
      "75th percentile-->36.0\n",
      "25th percentile-->104.0\n",
      "sum-->6208\n"
     ]
    }
   ],
   "source": [
    "print(f\"SemEval\\n\")\n",
    "print(f\"mean-->{np.mean(no_tokens_semeval)}\")\n",
    "print(f\"75th percentile-->{np.percentile(no_tokens_semeval, 25)}\")\n",
    "print(f\"25th percentile-->{np.percentile(no_tokens_semeval, 75)}\")\n",
    "print(f\"sum-->{np.sum(no_tokens_semeval)}\")\n",
    "\n",
    "print(f\"\\n\")\n",
    "\n",
    "print(f\"Contract NLI\\n\")\n",
    "print(f\"mean-->{np.mean(no_tokens_contractnli)}\")\n",
    "print(f\"75th percentile-->{np.percentile(no_tokens_contractnli, 25)}\")\n",
    "print(f\"25th percentile-->{np.percentile(no_tokens_contractnli, 75)}\")\n",
    "print(f\"sum-->{np.sum(no_tokens_contractnli)}\")\n",
    "\n",
    "print(f\"\\n\")\n",
    "\n",
    "print(f\"MEDIQA\\n\")\n",
    "print(f\"mean-->{np.mean(no_tokens_mediqa)}\")\n",
    "print(f\"75th percentile-->{np.percentile(no_tokens_mediqa, 25)}\")\n",
    "print(f\"25th percentile-->{np.percentile(no_tokens_mediqa, 75)}\")\n",
    "print(f\"sum-->{np.sum(no_tokens_mediqa)}\")\n",
    "\n",
    "print(f\"\\n\")\n",
    "\n",
    "print(f\"Legalsum\\n\")\n",
    "print(f\"mean-->{np.mean(no_tokens_legalsum)}\")\n",
    "print(f\"75th percentile-->{np.percentile(no_tokens_legalsum, 25)}\")\n",
    "print(f\"25th percentile-->{np.percentile(no_tokens_legalsum, 75)}\")\n",
    "print(f\"sum-->{np.sum(no_tokens_legalsum)}\")"
   ]
  },
  {
   "cell_type": "markdown",
   "metadata": {},
   "source": [
    "# Stats"
   ]
  },
  {
   "cell_type": "code",
   "execution_count": 36,
   "metadata": {},
   "outputs": [
    {
     "ename": "NameError",
     "evalue": "name 'no_tokens' is not defined",
     "output_type": "error",
     "traceback": [
      "\u001b[0;31m---------------------------------------------------------------------------\u001b[0m",
      "\u001b[0;31mNameError\u001b[0m                                 Traceback (most recent call last)",
      "Cell \u001b[0;32mIn[36], line 4\u001b[0m\n\u001b[1;32m      1\u001b[0m \u001b[38;5;28;01mimport\u001b[39;00m \u001b[38;5;21;01mmatplotlib\u001b[39;00m\u001b[38;5;21;01m.\u001b[39;00m\u001b[38;5;21;01mpyplot\u001b[39;00m \u001b[38;5;28;01mas\u001b[39;00m \u001b[38;5;21;01mplt\u001b[39;00m\n\u001b[1;32m      3\u001b[0m \u001b[38;5;66;03m# Create a box plot\u001b[39;00m\n\u001b[0;32m----> 4\u001b[0m plt\u001b[38;5;241m.\u001b[39mboxplot(\u001b[43mno_tokens\u001b[49m)\n\u001b[1;32m      6\u001b[0m \u001b[38;5;66;03m# Add labels and title\u001b[39;00m\n\u001b[1;32m      7\u001b[0m plt\u001b[38;5;241m.\u001b[39mtitle(\u001b[38;5;124m\"\u001b[39m\u001b[38;5;124mBox Plot of Array Lengths\u001b[39m\u001b[38;5;124m\"\u001b[39m)\n",
      "\u001b[0;31mNameError\u001b[0m: name 'no_tokens' is not defined"
     ]
    }
   ],
   "source": [
    "import matplotlib.pyplot as plt\n",
    "\n",
    "# Create a box plot\n",
    "plt.boxplot(no_tokens)\n",
    "\n",
    "# Add labels and title\n",
    "plt.title(\"Box Plot of Array Lengths\")\n",
    "plt.ylabel(\"Value\")\n",
    "\n",
    "# Display the plot\n",
    "plt.show()\n"
   ]
  },
  {
   "cell_type": "code",
   "execution_count": 12,
   "metadata": {},
   "outputs": [
    {
     "data": {
      "image/png": "[encoded data removed]",
      "text/plain": [
       "<Figure size 640x480 with 1 Axes>"
      ]
     },
     "metadata": {},
     "output_type": "display_data"
    }
   ],
   "source": [
    "import seaborn as sns\n",
    "import matplotlib.pyplot as plt\n",
    "\n",
    "# Create a violin plot\n",
    "sns.violinplot(data=no_tokens)\n",
    "\n",
    "# Add labels and title\n",
    "plt.title(\"Violin Plot of Array Lengths\")\n",
    "plt.ylabel(\"Value\")\n",
    "\n",
    "# Display the plot\n",
    "plt.show()\n"
   ]
  },
  {
   "cell_type": "markdown",
   "metadata": {},
   "source": [
    "# Datasets Stats for thesis"
   ]
  },
  {
   "cell_type": "code",
   "execution_count": null,
   "metadata": {},
   "outputs": [],
   "source": [
    "val_semeval_data = extract_SemEval_data()\n",
    "val_contractnli_data = extract_ContractNLI_data()\n",
    "val_mediqasum_data = extract_MEDIQASUM_data()\n",
    "val_legalsum_data = extract_LegalSumTOSDR_data()\n",
    "\n",
    "test_semeval_data = extract_SemEval_data(type='test')\n",
    "test_contractnli_data = extract_ContractNLI_data(type='test')\n",
    "test_mediqasum_data = extract_MEDIQASUM_data(type='test')\n",
    "test_legalsum_data = extract_LegalSumTOSDR_data(type='test')"
   ]
  }
 ],
 "metadata": {
  "kernelspec": {
   "display_name": "thesis_env_2",
   "language": "python",
   "name": "python3"
  },
  "language_info": {
   "codemirror_mode": {
    "name": "ipython",
    "version": 3
   },
   "file_extension": ".py",
   "mimetype": "text/x-python",
   "name": "python",
   "nbconvert_exporter": "python",
   "pygments_lexer": "ipython3",
   "version": "3.9.16"
  }
 },
 "nbformat": 4,
 "nbformat_minor": 2
}
